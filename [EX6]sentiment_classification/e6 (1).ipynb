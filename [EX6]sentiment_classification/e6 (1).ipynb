{
 "cells": [
  {
   "cell_type": "markdown",
   "id": "28a65a4e",
   "metadata": {},
   "source": [
    "# 📽영화리뷰 텍스트 감성분석하기"
   ]
  },
  {
   "cell_type": "markdown",
   "id": "0e53824e",
   "metadata": {},
   "source": [
    "# 1. 데이터 준비와 확인"
   ]
  },
  {
   "cell_type": "code",
   "execution_count": 1,
   "id": "4c4064c8",
   "metadata": {},
   "outputs": [
    {
     "data": {
      "text/html": [
       "<div>\n",
       "<style scoped>\n",
       "    .dataframe tbody tr th:only-of-type {\n",
       "        vertical-align: middle;\n",
       "    }\n",
       "\n",
       "    .dataframe tbody tr th {\n",
       "        vertical-align: top;\n",
       "    }\n",
       "\n",
       "    .dataframe thead th {\n",
       "        text-align: right;\n",
       "    }\n",
       "</style>\n",
       "<table border=\"1\" class=\"dataframe\">\n",
       "  <thead>\n",
       "    <tr style=\"text-align: right;\">\n",
       "      <th></th>\n",
       "      <th>id</th>\n",
       "      <th>document</th>\n",
       "      <th>label</th>\n",
       "    </tr>\n",
       "  </thead>\n",
       "  <tbody>\n",
       "    <tr>\n",
       "      <th>0</th>\n",
       "      <td>9976970</td>\n",
       "      <td>아 더빙.. 진짜 짜증나네요 목소리</td>\n",
       "      <td>0</td>\n",
       "    </tr>\n",
       "    <tr>\n",
       "      <th>1</th>\n",
       "      <td>3819312</td>\n",
       "      <td>흠...포스터보고 초딩영화줄....오버연기조차 가볍지 않구나</td>\n",
       "      <td>1</td>\n",
       "    </tr>\n",
       "    <tr>\n",
       "      <th>2</th>\n",
       "      <td>10265843</td>\n",
       "      <td>너무재밓었다그래서보는것을추천한다</td>\n",
       "      <td>0</td>\n",
       "    </tr>\n",
       "    <tr>\n",
       "      <th>3</th>\n",
       "      <td>9045019</td>\n",
       "      <td>교도소 이야기구먼 ..솔직히 재미는 없다..평점 조정</td>\n",
       "      <td>0</td>\n",
       "    </tr>\n",
       "    <tr>\n",
       "      <th>4</th>\n",
       "      <td>6483659</td>\n",
       "      <td>사이몬페그의 익살스런 연기가 돋보였던 영화!스파이더맨에서 늙어보이기만 했던 커스틴 ...</td>\n",
       "      <td>1</td>\n",
       "    </tr>\n",
       "  </tbody>\n",
       "</table>\n",
       "</div>"
      ],
      "text/plain": [
       "         id                                           document  label\n",
       "0   9976970                                아 더빙.. 진짜 짜증나네요 목소리      0\n",
       "1   3819312                  흠...포스터보고 초딩영화줄....오버연기조차 가볍지 않구나      1\n",
       "2  10265843                                  너무재밓었다그래서보는것을추천한다      0\n",
       "3   9045019                      교도소 이야기구먼 ..솔직히 재미는 없다..평점 조정      0\n",
       "4   6483659  사이몬페그의 익살스런 연기가 돋보였던 영화!스파이더맨에서 늙어보이기만 했던 커스틴 ...      1"
      ]
     },
     "execution_count": 1,
     "metadata": {},
     "output_type": "execute_result"
    }
   ],
   "source": [
    "import pandas as pd\n",
    "import tensorflow as tf\n",
    " \n",
    "train_data = pd.read_table('~/aiffel/sentiment_classification/data/ratings_train.txt')\n",
    "test_data = pd.read_table('~/aiffel/sentiment_classification/data/ratings_test.txt')\n",
    "\n",
    "train_data.head()"
   ]
  },
  {
   "cell_type": "markdown",
   "id": "cedcfebb",
   "metadata": {},
   "source": [
    "# 2. 데이터로더 구성\n",
    "* 데이터의 중복 제거\n",
    "* NaN 결측치 제거\n",
    "* 한국어 토크나이저로 토큰화\n",
    "* 불용어(Stopwords) 제거\n",
    "* 사전word_to_index 구성\n",
    "* 텍스트 스트링을 사전 인덱스 스트링으로 변환\n",
    "* X_train, y_train, X_test, y_test, word_to_index 리턴"
   ]
  },
  {
   "cell_type": "code",
   "execution_count": 2,
   "id": "93746d6e",
   "metadata": {},
   "outputs": [],
   "source": [
    "from konlpy.tag import Mecab\n",
    "import numpy as np\n",
    "from collections import Counter\n",
    "\n",
    "tokenizer = Mecab()\n",
    "stopwords = ['의','가','이','은','들','는','좀','잘','걍','과','도','를','으로','자','에','와','한','하다']\n",
    "\n",
    "def load_data(train_data, test_data, num_words=10000):\n",
    "    # 중복 제거\n",
    "    train_data.drop_duplicates(subset=['document'], inplace=True)\n",
    "    test_data.drop_duplicates(subset=['document'], inplace=True)\n",
    "    \n",
    "    # 결측치 제거\n",
    "    train_data = train_data.dropna(how = 'any')  \n",
    "    test_data = test_data.dropna(how = 'any') \n",
    "    \n",
    "    # 토큰화, 불용어 제거\n",
    "    x_train = []\n",
    "    for sentence in train_data['document']:\n",
    "        temp_x = tokenizer.morphs(sentence)\n",
    "        temp_x = [word for word in temp_x if not word in stopwords] \n",
    "        x_train.append(temp_x)\n",
    "\n",
    "    x_test = []\n",
    "    for sentence in test_data['document']:\n",
    "        temp_x = tokenizer.morphs(sentence)\n",
    "        temp_x = [word for word in temp_x if not word in stopwords] \n",
    "        x_test.append(temp_x)\n",
    "    \n",
    "    # 사전 word_to_index 구성\n",
    "    words = np.concatenate(x_train).tolist()\n",
    "    counter = Counter(words)\n",
    "    counter = counter.most_common(10000-4)\n",
    "    vocab = ['', '', '', ''] + [key for key, _ in counter]\n",
    "    word_to_index = {word:index for index, word in enumerate(vocab)}\n",
    "    \n",
    "    #텍스트 스트링을 사전 인덱스 스트링으로 변환\n",
    "    def wordlist_to_indexlist(wordlist):\n",
    "        return [word_to_index[word] if word in word_to_index else word_to_index[''] for word in wordlist]\n",
    "        \n",
    "    x_train = list(map(wordlist_to_indexlist, x_train))\n",
    "    x_test = list(map(wordlist_to_indexlist, x_test))\n",
    "        \n",
    "    return x_train, np.array(list(train_data['label'])), x_test, np.array(list(test_data['label'])), word_to_index\n",
    "    \n",
    "x_train, y_train, x_test, y_test, word_to_index = load_data(train_data, test_data)\n",
    "index_to_word={index:word for word,index in word_to_index.items()}\n",
    "\n",
    "word_to_index['<PAD>']=0\n",
    "word_to_index['<BOS>']=1\n",
    "word_to_index['<UNK>']=2\n",
    "word_to_index['<UNUSED>']=3"
   ]
  },
  {
   "cell_type": "markdown",
   "id": "fb3e3879",
   "metadata": {},
   "source": [
    "* Mecab(): NLP 필수 전처리 과정으로 형태소를 분석해줌\n",
    "* Counter() : 데이터의 개수를 셀 때 유용함"
   ]
  },
  {
   "cell_type": "code",
   "execution_count": 3,
   "id": "c004033e",
   "metadata": {},
   "outputs": [],
   "source": [
    "# 문장 1개를 활용할 딕셔너리와 함께 주면, 단어 인덱스 리스트로 변환해 주는 함수\n",
    "def get_encoded_sentence(sentence, word_to_index):\n",
    "    return [word_to_index['<BOS>']]+[word_to_index[word] if word in word_to_index else word_to_index['<UNK>'] for word in sentence.split()]\n",
    "\n",
    "# 여러 개의 문장 리스트를 한꺼번에 숫자 텐서로 encode해 주는 함수\n",
    "def get_encoded_sentences(sentences, word_to_index):\n",
    "    return [get_encoded_sentence(sentence, word_to_index) for sentence in sentences]\n",
    "\n",
    "\n",
    "# encode된 벡터를 decode하여 다시 원래 텍스트 데이터로 복구하는 함수\n",
    "def get_decoded_sentence(encoded_sentence, index_to_word):\n",
    "    return ' '.join(index_to_word[index] if index in index_to_word else '<UNK>' for index in encoded_sentence[1:])  \n",
    "\n",
    "\n",
    "# 여러 개의 숫자 벡터로 encode된 문장을 한꺼번에 원래대로 decode하는 함수\n",
    "def get_decoded_sentences(encoded_sentences, index_to_word):\n",
    "    return [get_decoded_sentence(encoded_sentence, index_to_word) for encoded_sentence in encoded_sentences]"
   ]
  },
  {
   "cell_type": "markdown",
   "id": "ff3bc543",
   "metadata": {},
   "source": [
    "# 3. 모델 구성을 위한 데이터 분석 및 가공"
   ]
  },
  {
   "cell_type": "markdown",
   "id": "1dfbd6a4",
   "metadata": {},
   "source": [
    "## 문장길이분포 & 최대 문장 길이 지정"
   ]
  },
  {
   "cell_type": "code",
   "execution_count": 4,
   "id": "3a9cf654",
   "metadata": {},
   "outputs": [
    {
     "name": "stdout",
     "output_type": "stream",
     "text": [
      "문장길이 평균 :  15.96940191154864\n",
      "문장길이 최대 :  116\n",
      "문장길이 표준편차 :  12.843571191092\n",
      "pad_sequences maXlen :  41\n",
      "전체 문장의 0.9342988343341575%가 maXlen 설정값 이내에 포함됩니다. \n"
     ]
    }
   ],
   "source": [
    "total_data_text = list(x_train)+list(x_test)\n",
    "\n",
    "num_tokens = [len(tokens) for tokens in total_data_text]\n",
    "num_tokens = np.array(num_tokens)\n",
    "\n",
    "print('문장길이 평균 : ', np.mean(num_tokens))\n",
    "print('문장길이 최대 : ', np.max(num_tokens))\n",
    "print('문장길이 표준편차 : ', np.std(num_tokens))\n",
    "\n",
    "max_tokens=np.mean(num_tokens)+2*np.std(num_tokens)\n",
    "maxlen=int(max_tokens)\n",
    "\n",
    "print('pad_sequences maXlen : ', maxlen)\n",
    "print('전체 문장의 {}%가 maXlen 설정값 이내에 포함됩니다. '.format(np.sum(num_tokens < max_tokens) / len(num_tokens)))"
   ]
  },
  {
   "cell_type": "markdown",
   "id": "873529e3",
   "metadata": {},
   "source": [
    "## pre 패딩추가"
   ]
  },
  {
   "cell_type": "code",
   "execution_count": 5,
   "id": "a1daa97f",
   "metadata": {},
   "outputs": [],
   "source": [
    "x_train = tf.keras.preprocessing.sequence.pad_sequences(x_train,\n",
    "                                                        value=word_to_index[\"<PAD>\"],\n",
    "                                                        padding='pre', \n",
    "                                                        maxlen=maxlen)\n",
    "\n",
    "x_test = tf.keras.preprocessing.sequence.pad_sequences(x_test,\n",
    "                                                       value=word_to_index[\"<PAD>\"],\n",
    "                                                       padding='pre',\n",
    "                                                       maxlen=maxlen)\n"
   ]
  },
  {
   "cell_type": "markdown",
   "id": "6e369792",
   "metadata": {},
   "source": [
    "# 4. 모델 구성& 훈련"
   ]
  },
  {
   "cell_type": "markdown",
   "id": "cec24f61",
   "metadata": {},
   "source": [
    "## 1) RNN"
   ]
  },
  {
   "cell_type": "code",
   "execution_count": 6,
   "id": "b97a61df",
   "metadata": {},
   "outputs": [
    {
     "name": "stdout",
     "output_type": "stream",
     "text": [
      "Epoch 1/5\n",
      "1064/1064 [==============================] - 10s 6ms/step - loss: 0.4095 - accuracy: 0.8185 - val_loss: 0.3387 - val_accuracy: 0.8518\n",
      "Epoch 2/5\n",
      "1064/1064 [==============================] - 6s 6ms/step - loss: 0.3229 - accuracy: 0.8626 - val_loss: 0.3302 - val_accuracy: 0.8551\n",
      "Epoch 3/5\n",
      "1064/1064 [==============================] - 6s 6ms/step - loss: 0.2963 - accuracy: 0.8749 - val_loss: 0.3276 - val_accuracy: 0.8586\n",
      "Epoch 4/5\n",
      "1064/1064 [==============================] - 6s 6ms/step - loss: 0.2724 - accuracy: 0.8866 - val_loss: 0.3342 - val_accuracy: 0.8560\n",
      "Epoch 5/5\n",
      "1064/1064 [==============================] - 6s 6ms/step - loss: 0.2525 - accuracy: 0.8957 - val_loss: 0.3462 - val_accuracy: 0.8565\n",
      "1537/1537 - 3s - loss: 0.3552 - accuracy: 0.8516\n",
      "[0.35524728894233704, 0.8515572547912598]\n"
     ]
    }
   ],
   "source": [
    "vocab_size=10000\n",
    "word_vector_dim=16\n",
    "\n",
    "# 모델구성\n",
    "model=tf.keras.Sequential()\n",
    "model.add(tf.keras.layers.Embedding(vocab_size, word_vector_dim, input_shape=(None,)))\n",
    "model.add(tf.keras.layers.LSTM(8))\n",
    "model.add(tf.keras.layers.Dense(8,activation='relu'))\n",
    "model.add(tf.keras.layers.Dense(1,activation='sigmoid'))\n",
    "\n",
    "#validation set 구성\n",
    "x_val=x_train[:10000]\n",
    "y_val = y_train[:10000]\n",
    "partial_x_train = x_train[10000:]  \n",
    "partial_y_train = y_train[10000:]\n",
    "\n",
    "#모델훈련\n",
    "model.compile(optimizer='adam',\n",
    "              loss='binary_crossentropy',\n",
    "              metrics=['accuracy'])\n",
    "              \n",
    "epochs=5\n",
    "history = model.fit(partial_x_train,\n",
    "                    partial_y_train,\n",
    "                    epochs=epochs,\n",
    "                    batch_size=128,\n",
    "                    validation_data=(x_val, y_val),\n",
    "                    verbose=1)\n",
    "\n",
    "results=model.evaluate(x_test,y_test,verbose=2)\n",
    "print(results)"
   ]
  },
  {
   "cell_type": "code",
   "execution_count": 7,
   "id": "a9b04567",
   "metadata": {},
   "outputs": [
    {
     "data": {
      "image/png": "[encoded data removed]",
      "text/plain": [
       "<Figure size 720x360 with 2 Axes>"
      ]
     },
     "metadata": {
      "needs_background": "light"
     },
     "output_type": "display_data"
    }
   ],
   "source": [
    "import matplotlib.pyplot as plt\n",
    "\n",
    "history_dict=history.history\n",
    "acc=history_dict['accuracy']\n",
    "val_acc = history_dict['val_accuracy']\n",
    "loss = history_dict['loss']\n",
    "val_loss = history_dict['val_loss']\n",
    "\n",
    "epochs=range(1,len(acc)+1)\n",
    "\n",
    "plt.figure(figsize=(10,5))\n",
    "plt.subplot(1,2,1)\n",
    "plt.plot(epochs,loss,'r',label='Training loss')\n",
    "plt.plot(epochs, val_loss, 'b', label='Validation loss')\n",
    "plt.title('Training and validation loss')\n",
    "plt.xlabel('Epochs')\n",
    "plt.ylabel('Loss')\n",
    "plt.legend()\n",
    "\n",
    "plt.subplot(1,2,2)\n",
    "plt.plot(epochs, acc, 'r', label='Training acc')\n",
    "plt.plot(epochs, val_acc, 'b', label='Validation acc')\n",
    "plt.title('Training and validation accuracy')\n",
    "plt.xlabel('Epochs')\n",
    "plt.ylabel('Accuracy')\n",
    "plt.legend()\n",
    "\n",
    "plt.show()"
   ]
  },
  {
   "cell_type": "markdown",
   "id": "67d84a8e",
   "metadata": {},
   "source": [
    "## 2) CNN"
   ]
  },
  {
   "cell_type": "code",
   "execution_count": 8,
   "id": "2e9f9751",
   "metadata": {},
   "outputs": [
    {
     "name": "stdout",
     "output_type": "stream",
     "text": [
      "Epoch 1/3\n",
      "1064/1064 [==============================] - 7s 5ms/step - loss: 0.4005 - accuracy: 0.8133 - val_loss: 0.3278 - val_accuracy: 0.8575\n",
      "Epoch 2/3\n",
      "1064/1064 [==============================] - 5s 5ms/step - loss: 0.2980 - accuracy: 0.8751 - val_loss: 0.3166 - val_accuracy: 0.8636\n",
      "Epoch 3/3\n",
      "1064/1064 [==============================] - 5s 5ms/step - loss: 0.2499 - accuracy: 0.8994 - val_loss: 0.3277 - val_accuracy: 0.8601\n",
      "1537/1537 - 3s - loss: 0.3475 - accuracy: 0.8535\n",
      "[0.3474688231945038, 0.8534694910049438]\n"
     ]
    }
   ],
   "source": [
    "#모델구성\n",
    "model = tf.keras.Sequential()\n",
    "model.add(tf.keras.layers.Embedding(vocab_size, word_vector_dim, input_shape=(None,)))\n",
    "model.add(tf.keras.layers.Conv1D(16, 7, activation='relu'))\n",
    "model.add(tf.keras.layers.MaxPooling1D(5))\n",
    "model.add(tf.keras.layers.Conv1D(16, 7, activation='relu'))\n",
    "model.add(tf.keras.layers.GlobalMaxPooling1D())\n",
    "model.add(tf.keras.layers.Dense(8, activation='relu'))\n",
    "model.add(tf.keras.layers.Dense(1, activation='sigmoid')) \n",
    "\n",
    "#validation set 구성\n",
    "x_val=x_train[:10000]\n",
    "y_val = y_train[:10000]\n",
    "partial_x_train = x_train[10000:]  \n",
    "partial_y_train = y_train[10000:]\n",
    "\n",
    "#모델훈련\n",
    "model.compile(optimizer='adam',\n",
    "              loss='binary_crossentropy',\n",
    "              metrics=['accuracy'])\n",
    "              \n",
    "epochs=3\n",
    "history = model.fit(partial_x_train,\n",
    "                    partial_y_train,\n",
    "                    epochs=epochs,\n",
    "                    batch_size=128,\n",
    "                    validation_data=(x_val, y_val),\n",
    "                    verbose=1)\n",
    "\n",
    "results=model.evaluate(x_test,y_test,verbose=2)\n",
    "print(results)"
   ]
  },
  {
   "cell_type": "code",
   "execution_count": 9,
   "id": "f127a062",
   "metadata": {},
   "outputs": [
    {
     "data": {
      "image/png": "[encoded data removed]",
      "text/plain": [
       "<Figure size 720x360 with 2 Axes>"
      ]
     },
     "metadata": {
      "needs_background": "light"
     },
     "output_type": "display_data"
    }
   ],
   "source": [
    "history_dict=history.history\n",
    "acc=history_dict['accuracy']\n",
    "val_acc = history_dict['val_accuracy']\n",
    "loss = history_dict['loss']\n",
    "val_loss = history_dict['val_loss']\n",
    "\n",
    "epochs=range(1,len(acc)+1)\n",
    "\n",
    "plt.figure(figsize=(10,5))\n",
    "plt.subplot(1,2,1)\n",
    "plt.plot(epochs,loss,'r',label='Training loss')\n",
    "plt.plot(epochs, val_loss, 'b', label='Validation loss')\n",
    "plt.title('Training and validation loss')\n",
    "plt.xlabel('Epochs')\n",
    "plt.ylabel('Loss')\n",
    "plt.legend()\n",
    "\n",
    "plt.subplot(1,2,2)\n",
    "plt.plot(epochs, acc, 'r', label='Training acc')\n",
    "plt.plot(epochs, val_acc, 'b', label='Validation acc')\n",
    "plt.title('Training and validation accuracy')\n",
    "plt.xlabel('Epochs')\n",
    "plt.ylabel('Accuracy')\n",
    "plt.legend()\n",
    "\n",
    "plt.show()"
   ]
  },
  {
   "cell_type": "markdown",
   "id": "cf42fd36",
   "metadata": {},
   "source": [
    "## 3) GlobalMaxPooling1D"
   ]
  },
  {
   "cell_type": "code",
   "execution_count": 10,
   "id": "fda3a244",
   "metadata": {},
   "outputs": [
    {
     "name": "stdout",
     "output_type": "stream",
     "text": [
      "Epoch 1/3\n",
      "4256/4256 [==============================] - 14s 3ms/step - loss: 0.4069 - accuracy: 0.8158 - val_loss: 0.3524 - val_accuracy: 0.8424\n",
      "Epoch 2/3\n",
      "4256/4256 [==============================] - 14s 3ms/step - loss: 0.3235 - accuracy: 0.8615 - val_loss: 0.3476 - val_accuracy: 0.8476\n",
      "Epoch 3/3\n",
      "4256/4256 [==============================] - 14s 3ms/step - loss: 0.2944 - accuracy: 0.8764 - val_loss: 0.3488 - val_accuracy: 0.8498\n",
      "1537/1537 - 2s - loss: 0.3622 - accuracy: 0.8447\n",
      "[0.3622124195098877, 0.8446609973907471]\n"
     ]
    }
   ],
   "source": [
    "# 모델구성\n",
    "model = tf.keras.Sequential()\n",
    "model.add(tf.keras.layers.Embedding(vocab_size, word_vector_dim, input_shape=(None,)))\n",
    "model.add(tf.keras.layers.GlobalMaxPooling1D())\n",
    "model.add(tf.keras.layers.Dense(8, activation='relu'))\n",
    "model.add(tf.keras.layers.Dense(1, activation='sigmoid'))\n",
    "\n",
    "#validation set 구성\n",
    "x_val=x_train[:10000]\n",
    "y_val = y_train[:10000]\n",
    "partial_x_train = x_train[10000:]  \n",
    "partial_y_train = y_train[10000:]\n",
    "\n",
    "#모델훈련\n",
    "model.compile(optimizer='adam',\n",
    "              loss='binary_crossentropy',\n",
    "              metrics=['accuracy'])\n",
    "              \n",
    "epochs=3\n",
    "history = model.fit(partial_x_train,\n",
    "                    partial_y_train,\n",
    "                    epochs=epochs,\n",
    "                    batch_size=32,\n",
    "                    validation_data=(x_val, y_val),\n",
    "                    verbose=1)\n",
    "\n",
    "results=model.evaluate(x_test,y_test,verbose=2)\n",
    "print(results)"
   ]
  },
  {
   "cell_type": "code",
   "execution_count": 11,
   "id": "e2d40beb",
   "metadata": {},
   "outputs": [
    {
     "data": {
      "image/png": "[encoded data removed]",
      "text/plain": [
       "<Figure size 720x360 with 2 Axes>"
      ]
     },
     "metadata": {
      "needs_background": "light"
     },
     "output_type": "display_data"
    }
   ],
   "source": [
    "history_dict=history.history\n",
    "acc=history_dict['accuracy']\n",
    "val_acc = history_dict['val_accuracy']\n",
    "loss = history_dict['loss']\n",
    "val_loss = history_dict['val_loss']\n",
    "\n",
    "epochs=range(1,len(acc)+1)\n",
    "\n",
    "plt.figure(figsize=(10,5))\n",
    "plt.subplot(1,2,1)\n",
    "plt.plot(epochs,loss,'r',label='Training loss')\n",
    "plt.plot(epochs, val_loss, 'b', label='Validation loss')\n",
    "plt.title('Training and validation loss')\n",
    "plt.xlabel('Epochs')\n",
    "plt.ylabel('Loss')\n",
    "plt.legend()\n",
    "\n",
    "plt.subplot(1,2,2)\n",
    "plt.plot(epochs, acc, 'r', label='Training acc')\n",
    "plt.plot(epochs, val_acc, 'b', label='Validation acc')\n",
    "plt.title('Training and validation accuracy')\n",
    "plt.xlabel('Epochs')\n",
    "plt.ylabel('Accuracy')\n",
    "plt.legend()\n",
    "\n",
    "plt.show()"
   ]
  },
  {
   "cell_type": "markdown",
   "id": "728dbd48",
   "metadata": {},
   "source": [
    "# 5. 학습된 embedding 레이어 분석"
   ]
  },
  {
   "cell_type": "code",
   "execution_count": 12,
   "id": "59716469",
   "metadata": {},
   "outputs": [
    {
     "name": "stdout",
     "output_type": "stream",
     "text": [
      "(10000, 16)\n"
     ]
    }
   ],
   "source": [
    "import os\n",
    "import gensim\n",
    "from tensorflow.keras.initializers import Constant\n",
    "from gensim.models.keyedvectors import Word2VecKeyedVectors\n",
    "\n",
    "embedding_layer = model.layers[0]\n",
    "weights = embedding_layer.get_weights()[0]\n",
    "print(weights.shape) "
   ]
  },
  {
   "cell_type": "code",
   "execution_count": 13,
   "id": "174ea0c6",
   "metadata": {},
   "outputs": [],
   "source": [
    "word2vec_file_path = os.getenv('HOME')+'/aiffel/sentiment_classification/data/word2vec.txt'\n",
    "f = open(word2vec_file_path, 'w')\n",
    "f.write('{} {}\\n'.format(vocab_size-4, word_vector_dim)) \n",
    "\n",
    "vectors = model.get_weights()[0]\n",
    "for i in range(4,vocab_size):\n",
    "    f.write('{} {}\\n'.format(index_to_word[i], ' '.join(map(str, list(vectors[i, :])))))\n",
    "f.close()"
   ]
  },
  {
   "cell_type": "markdown",
   "id": "2fb7dc5e",
   "metadata": {},
   "source": [
    "* 학습한 임베딩 파라미터를 파일에 써서 저장한다.\n",
    "* 특수 문자 4개 제외한 단어 개수만큼 워드벡터를 파일에 기록한다."
   ]
  },
  {
   "cell_type": "code",
   "execution_count": 14,
   "id": "f7fbd7c2",
   "metadata": {},
   "outputs": [
    {
     "data": {
      "text/plain": [
       "[('명품', 0.8925368785858154),\n",
       " ('알려', 0.8853824138641357),\n",
       " ('9', 0.8846007585525513),\n",
       " ('한지민', 0.8819237947463989),\n",
       " ('신성', 0.8806396126747131),\n",
       " ('정려원', 0.8729419112205505),\n",
       " ('탕웨이', 0.8604217767715454),\n",
       " ('자연', 0.8594315648078918),\n",
       " ('즐거움', 0.8496702909469604),\n",
       " ('쌤', 0.8480206727981567)]"
      ]
     },
     "execution_count": 14,
     "metadata": {},
     "output_type": "execute_result"
    }
   ],
   "source": [
    "word_vectors = Word2VecKeyedVectors.load_word2vec_format(word2vec_file_path, binary=False)\n",
    "\n",
    "word_vectors.similar_by_word(\"부산\")"
   ]
  },
  {
   "cell_type": "markdown",
   "id": "57a72937",
   "metadata": {},
   "source": [
    "* 높은 유사율과는 다르게 전혀 다른 단어들을 내뱉는것같다.\n",
    "* 영어로 된 Word2Vec은 한국어를 인식을 못하는것같다."
   ]
  },
  {
   "cell_type": "markdown",
   "id": "3baf2469",
   "metadata": {},
   "source": [
    "# 6. 한국어 Word2Vec 임베딩 활용하여 성능 개선\n"
   ]
  },
  {
   "cell_type": "code",
   "execution_count": 15,
   "id": "ebbe6fcb",
   "metadata": {},
   "outputs": [
    {
     "data": {
      "text/plain": [
       "'3.8.3'"
      ]
     },
     "execution_count": 15,
     "metadata": {},
     "output_type": "execute_result"
    }
   ],
   "source": [
    "gensim.__version__"
   ]
  },
  {
   "cell_type": "code",
   "execution_count": 16,
   "id": "faf1b574",
   "metadata": {},
   "outputs": [
    {
     "name": "stderr",
     "output_type": "stream",
     "text": [
      "/tmp/ipykernel_8823/1552186095.py:5: DeprecationWarning: Call to deprecated `similar_by_word` (Method will be removed in 4.0.0, use self.wv.similar_by_word() instead).\n",
      "  ko.similar_by_word(\"부산\")\n"
     ]
    },
    {
     "data": {
      "text/plain": [
       "[('울산', 0.7600871920585632),\n",
       " ('광주', 0.7559570074081421),\n",
       " ('대구', 0.7386282682418823),\n",
       " ('인천', 0.684541642665863),\n",
       " ('동래구', 0.6495779156684875),\n",
       " ('창원', 0.6408145427703857),\n",
       " ('금정구', 0.6406904458999634),\n",
       " ('군산', 0.6394318342208862),\n",
       " ('수영구', 0.6326496601104736),\n",
       " ('경남', 0.6203043460845947)]"
      ]
     },
     "execution_count": 16,
     "metadata": {},
     "output_type": "execute_result"
    }
   ],
   "source": [
    "from gensim.models import KeyedVectors\n",
    "\n",
    "ko_path = os.getenv('HOME')+'/aiffel/sentiment_classification/ko.bin'\n",
    "ko = gensim.models.Word2Vec.load(ko_path)\n",
    "ko.similar_by_word(\"부산\")"
   ]
  },
  {
   "cell_type": "markdown",
   "id": "ff9cc44a",
   "metadata": {},
   "source": [
    "* 아까보다 낮은 유사율이지만 훨씬 유사한 단어들을 내뱉는다."
   ]
  },
  {
   "cell_type": "code",
   "execution_count": 17,
   "id": "06f7b5fd",
   "metadata": {},
   "outputs": [
    {
     "name": "stderr",
     "output_type": "stream",
     "text": [
      "/tmp/ipykernel_8823/1052650166.py:7: DeprecationWarning: Call to deprecated `__contains__` (Method will be removed in 4.0.0, use self.wv.__contains__() instead).\n",
      "  if index_to_word[i] in ko:\n",
      "/tmp/ipykernel_8823/1052650166.py:8: DeprecationWarning: Call to deprecated `__getitem__` (Method will be removed in 4.0.0, use self.wv.__getitem__() instead).\n",
      "  embedding_matrix[i] = ko[index_to_word[i]]\n"
     ]
    }
   ],
   "source": [
    "vocab_size = 10000   \n",
    "word_vector_dim = 200 \n",
    "\n",
    "embedding_matrix = np.random.rand(vocab_size, word_vector_dim)\n",
    "\n",
    "for i in range(4,vocab_size):\n",
    "    if index_to_word[i] in ko:\n",
    "        embedding_matrix[i] = ko[index_to_word[i]]"
   ]
  },
  {
   "cell_type": "markdown",
   "id": "1c85ef14",
   "metadata": {},
   "source": [
    "## 1)RNN"
   ]
  },
  {
   "cell_type": "code",
   "execution_count": 18,
   "id": "e6cb6114",
   "metadata": {},
   "outputs": [
    {
     "name": "stdout",
     "output_type": "stream",
     "text": [
      "Epoch 1/5\n",
      "1064/1064 [==============================] - 8s 6ms/step - loss: 0.4460 - accuracy: 0.7892 - val_loss: 0.3557 - val_accuracy: 0.8439\n",
      "Epoch 2/5\n",
      "1064/1064 [==============================] - 6s 6ms/step - loss: 0.3321 - accuracy: 0.8582 - val_loss: 0.3387 - val_accuracy: 0.8535\n",
      "Epoch 3/5\n",
      "1064/1064 [==============================] - 6s 6ms/step - loss: 0.2983 - accuracy: 0.8753 - val_loss: 0.3365 - val_accuracy: 0.8558\n",
      "Epoch 4/5\n",
      "1064/1064 [==============================] - 6s 6ms/step - loss: 0.2751 - accuracy: 0.8865 - val_loss: 0.3376 - val_accuracy: 0.8574\n",
      "Epoch 5/5\n",
      "1064/1064 [==============================] - 6s 6ms/step - loss: 0.2563 - accuracy: 0.8956 - val_loss: 0.3398 - val_accuracy: 0.8574\n",
      "1537/1537 - 3s - loss: 0.3523 - accuracy: 0.8507\n",
      "[0.35228049755096436, 0.8507028222084045]\n"
     ]
    }
   ],
   "source": [
    "model=tf.keras.Sequential()\n",
    "model.add(tf.keras.layers.Embedding(vocab_size, word_vector_dim,\n",
    "                                   embeddings_initializer=Constant(embedding_matrix),\n",
    "                                   input_length=maxlen, trainable=True)) \n",
    "model.add(tf.keras.layers.LSTM(8))\n",
    "model.add(tf.keras.layers.Dense(8,activation='relu'))\n",
    "model.add(tf.keras.layers.Dense(1,activation='sigmoid'))\n",
    "\n",
    "model.compile(optimizer='adam',\n",
    "              loss='binary_crossentropy',\n",
    "              metrics=['accuracy'])\n",
    "              \n",
    "epochs=5\n",
    "history = model.fit(partial_x_train,\n",
    "                    partial_y_train,\n",
    "                    epochs=epochs,\n",
    "                    batch_size=128,\n",
    "                    validation_data=(x_val, y_val),\n",
    "                    verbose=1)\n",
    "\n",
    "results=model.evaluate(x_test,y_test,verbose=2)\n",
    "print(results)"
   ]
  },
  {
   "cell_type": "markdown",
   "id": "f16c4bf9",
   "metadata": {},
   "source": [
    "## 2) CNN"
   ]
  },
  {
   "cell_type": "code",
   "execution_count": 23,
   "id": "9b29a58c",
   "metadata": {},
   "outputs": [
    {
     "name": "stdout",
     "output_type": "stream",
     "text": [
      "Epoch 1/5\n",
      "4256/4256 [==============================] - 23s 5ms/step - loss: 0.4142 - accuracy: 0.8067 - val_loss: 0.3451 - val_accuracy: 0.8470\n",
      "Epoch 2/5\n",
      "4256/4256 [==============================] - 22s 5ms/step - loss: 0.3141 - accuracy: 0.8656 - val_loss: 0.3346 - val_accuracy: 0.8550\n",
      "Epoch 3/5\n",
      "4256/4256 [==============================] - 22s 5ms/step - loss: 0.2730 - accuracy: 0.8859 - val_loss: 0.3212 - val_accuracy: 0.8616\n",
      "Epoch 4/5\n",
      "4256/4256 [==============================] - 22s 5ms/step - loss: 0.2348 - accuracy: 0.9039 - val_loss: 0.3322 - val_accuracy: 0.8591\n",
      "Epoch 5/5\n",
      "4256/4256 [==============================] - 22s 5ms/step - loss: 0.1971 - accuracy: 0.9215 - val_loss: 0.3593 - val_accuracy: 0.8579\n",
      "1537/1537 - 3s - loss: 0.3748 - accuracy: 0.8506\n",
      "[0.37477007508277893, 0.8506214618682861]\n"
     ]
    }
   ],
   "source": [
    "model = tf.keras.Sequential()\n",
    "\n",
    "model.add(tf.keras.layers.Embedding(vocab_size, word_vector_dim,\n",
    "                                    embeddings_initializer=Constant(embedding_matrix),\n",
    "                                   input_length=maxlen, trainable=True)) \n",
    "model.add(tf.keras.layers.Conv1D(32, 7, activation='relu'))\n",
    "model.add(tf.keras.layers.MaxPooling1D(5))\n",
    "model.add(tf.keras.layers.Conv1D(64, 7, activation='relu'))\n",
    "model.add(tf.keras.layers.GlobalMaxPooling1D())\n",
    "model.add(tf.keras.layers.Dense(64, activation='relu'))\n",
    "model.add(tf.keras.layers.Dense(1, activation='sigmoid')) \n",
    "\n",
    "model.compile(optimizer='adam',\n",
    "              loss='binary_crossentropy',\n",
    "              metrics=['accuracy'])\n",
    "              \n",
    "epochs=5\n",
    "history = model.fit(partial_x_train,\n",
    "                    partial_y_train,\n",
    "                    epochs=epochs,\n",
    "                    batch_size=32,\n",
    "                    validation_data=(x_val, y_val),\n",
    "                    verbose=1)\n",
    "\n",
    "results=model.evaluate(x_test,y_test,verbose=2)\n",
    "print(results)"
   ]
  },
  {
   "cell_type": "markdown",
   "id": "91223095",
   "metadata": {},
   "source": [
    "## 3) GlobalMaxPooling1D"
   ]
  },
  {
   "cell_type": "code",
   "execution_count": 30,
   "id": "712f8f91",
   "metadata": {},
   "outputs": [
    {
     "name": "stdout",
     "output_type": "stream",
     "text": [
      "Epoch 1/7\n",
      "8512/8512 [==============================] - 31s 4ms/step - loss: 0.5008 - accuracy: 0.7490 - val_loss: 0.4142 - val_accuracy: 0.8107\n",
      "Epoch 2/7\n",
      "8512/8512 [==============================] - 30s 4ms/step - loss: 0.3856 - accuracy: 0.8270 - val_loss: 0.3776 - val_accuracy: 0.8293\n",
      "Epoch 3/7\n",
      "8512/8512 [==============================] - 30s 4ms/step - loss: 0.3409 - accuracy: 0.8518 - val_loss: 0.3639 - val_accuracy: 0.8334\n",
      "Epoch 4/7\n",
      "8512/8512 [==============================] - 30s 4ms/step - loss: 0.3090 - accuracy: 0.8693 - val_loss: 0.3755 - val_accuracy: 0.8316\n",
      "Epoch 5/7\n",
      "8512/8512 [==============================] - 30s 4ms/step - loss: 0.2826 - accuracy: 0.8822 - val_loss: 0.3588 - val_accuracy: 0.8433\n",
      "Epoch 6/7\n",
      "8512/8512 [==============================] - 31s 4ms/step - loss: 0.2601 - accuracy: 0.8942 - val_loss: 0.3677 - val_accuracy: 0.8434\n",
      "Epoch 7/7\n",
      "8512/8512 [==============================] - 30s 4ms/step - loss: 0.2404 - accuracy: 0.9034 - val_loss: 0.3665 - val_accuracy: 0.8463\n",
      "1537/1537 - 3s - loss: 0.3789 - accuracy: 0.8398\n",
      "[0.3789341449737549, 0.8397989869117737]\n"
     ]
    }
   ],
   "source": [
    "model = tf.keras.Sequential()\n",
    "model.add(tf.keras.layers.Embedding(vocab_size, word_vector_dim,\n",
    "                                   embeddings_initializer=Constant(embedding_matrix),\n",
    "                                   input_length=maxlen, trainable=True)) \n",
    "model.add(tf.keras.layers.GlobalMaxPooling1D())\n",
    "model.add(tf.keras.layers.Dense(8, activation='relu'))\n",
    "model.add(tf.keras.layers.Dense(1, activation='sigmoid'))\n",
    "\n",
    "model.compile(optimizer='adam',\n",
    "              loss='binary_crossentropy',\n",
    "              metrics=['accuracy'])\n",
    "              \n",
    "epochs=7\n",
    "history = model.fit(partial_x_train,\n",
    "                    partial_y_train,\n",
    "                    epochs=epochs,\n",
    "                    batch_size=16,\n",
    "                    validation_data=(x_val, y_val),\n",
    "                    verbose=1)\n",
    "\n",
    "results=model.evaluate(x_test,y_test,verbose=2)\n",
    "print(results)"
   ]
  },
  {
   "cell_type": "markdown",
   "id": "80e28119",
   "metadata": {},
   "source": [
    "# 회고\n",
    "\n",
    "* 한국어 임베딩을 사용하려했을때 오류가 났다. gensim을 3.8.3으로 다운그레이드하여 해결하였다.\n",
    "\n",
    "* 솔직하게 5번부터 흐름이 어떻게 흘러가는지 모르겠다. 우리가 모델링했던 cnn,rnn 등등을 이용해서 임베딩레이어를 분석하는건가..? 전혀 상관이 없어보인다. 노드를 따라하다보니 제출을 어떻게 하긴했는데... 이부분은 조원들에게 물어봐야겠다.\n",
    "\n",
    "* 한국어 Word2Vec을 사용해서 성능을  같은 조건하에 가시적인 성능향상을 보여주려했으나 85% 이상 달성하기가 어려워서 결국 하이퍼파라미터를 계속 조정해주었다.85% 를 넘겼으나 성능향상이 잘된건지모르겠다ㅎㅎ\n",
    "\n",
    "* GlobalMaxPooling1D는 성능을 올리려 계속 시도했으나 실패했다. 오히려 한국어임베딩 안쓴게 더 성능이 좋다. NLP 어렵다..."
   ]
  }
 ],
 "metadata": {
  "kernelspec": {
   "display_name": "Python 3 (ipykernel)",
   "language": "python",
   "name": "python3"
  },
  "language_info": {
   "codemirror_mode": {
    "name": "ipython",
    "version": 3
   },
   "file_extension": ".py",
   "mimetype": "text/x-python",
   "name": "python",
   "nbconvert_exporter": "python",
   "pygments_lexer": "ipython3",
   "version": "3.9.7"
  }
 },
 "nbformat": 4,
 "nbformat_minor": 5
}
