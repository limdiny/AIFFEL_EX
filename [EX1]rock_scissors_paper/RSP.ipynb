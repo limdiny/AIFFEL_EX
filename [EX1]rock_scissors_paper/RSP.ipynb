{
 "cells": [
  {
   "cell_type": "markdown",
   "id": "c2b0314c",
   "metadata": {},
   "source": [
    "# 데이터 불러오기 & Resize하기"
   ]
  },
  {
   "cell_type": "code",
   "execution_count": 1,
   "id": "bfc6473b",
   "metadata": {},
   "outputs": [],
   "source": [
    "from PIL import Image\n",
    "import matplotlib.pyplot as plt\n",
    "import glob\n",
    "import os\n"
   ]
  },
  {
   "cell_type": "code",
   "execution_count": 2,
   "id": "6636a86e",
   "metadata": {},
   "outputs": [
    {
     "name": "stdout",
     "output_type": "stream",
     "text": [
      "2000 images to be resized\n",
      "2000 images resized\n",
      "가위 resize 완료!\n",
      "2014 images to be resized\n",
      "2014 images resized\n",
      "바위 resize 완료!\n",
      "1998 images to be resized\n",
      "1998 images resized\n",
      "보 resize 완료!\n"
     ]
    }
   ],
   "source": [
    "def resize_images(img_path):\n",
    "    images=glob.glob(img_path+'/*.jpg')\n",
    "    \n",
    "    print(len(images),'images to be resized')\n",
    "    \n",
    "    target_size=(28,28)\n",
    "    for img in images:\n",
    "        old_img=Image.open(img)\n",
    "        new_img=old_img.resize(target_size,Image.ANTIALIAS)\n",
    "        new_img.save(img,'JPEG')\n",
    "        \n",
    "    print(len(images),'images resized')\n",
    "\n",
    "        \n",
    "\n",
    "\n",
    "s_dir_path= os.getenv(\"HOME\") + \"/aiffel/rock_scissor_paper/scissor\"       \n",
    "resize_images(s_dir_path)\n",
    "print('가위 resize 완료!')\n",
    "\n",
    "r_dir_path= os.getenv(\"HOME\") + \"/aiffel/rock_scissor_paper/rock\"       \n",
    "resize_images(r_dir_path)\n",
    "print('바위 resize 완료!')\n",
    "\n",
    "p_dir_path= os.getenv(\"HOME\") + \"/aiffel/rock_scissor_paper/paper\"       \n",
    "resize_images(p_dir_path)\n",
    "print('보 resize 완료!')"
   ]
  },
  {
   "cell_type": "markdown",
   "id": "c6e9f58d",
   "metadata": {},
   "source": [
    "# 데이터 로드하기"
   ]
  },
  {
   "cell_type": "code",
   "execution_count": 3,
   "id": "7ebfae91",
   "metadata": {},
   "outputs": [
    {
     "name": "stdout",
     "output_type": "stream",
     "text": [
      "학습데이터(x_train)의 이미지 개수는 6012 입니다.\n",
      "x_train shape: (6012, 28, 28, 3)\n",
      "y_train shape: (6012,)\n"
     ]
    }
   ],
   "source": [
    "import numpy as np\n",
    "\n",
    "def load_data(img_path, number_of_data): \n",
    "   \n",
    "    img_size=28\n",
    "    color=3\n",
    "    \n",
    "    imgs=np.zeros(number_of_data*img_size*img_size*color,dtype=np.int32).reshape(number_of_data,img_size,img_size,color)\n",
    "    labels=np.zeros(number_of_data,dtype=np.int32)\n",
    "\n",
    "    idx=0\n",
    "    for file in glob.iglob(img_path+'/scissor/*.jpg'):\n",
    "        img = np.array(Image.open(file),dtype=np.int32)\n",
    "        imgs[idx,:,:,:]=img    \n",
    "        labels[idx]=0   \n",
    "        idx=idx+1\n",
    "\n",
    "    for file in glob.iglob(img_path+'/rock/*.jpg'):\n",
    "        img = np.array(Image.open(file),dtype=np.int32)\n",
    "        imgs[idx,:,:,:]=img   \n",
    "        labels[idx]=1   \n",
    "        idx=idx+1  \n",
    "    \n",
    "    for file in glob.iglob(img_path+'/paper/*.jpg'):\n",
    "        img = np.array(Image.open(file),dtype=np.int32)\n",
    "        imgs[idx,:,:,:]=img   \n",
    "        labels[idx]=2   \n",
    "        idx=idx+1\n",
    "        \n",
    "    print(\"학습데이터(x_train)의 이미지 개수는\", idx,\"입니다.\")\n",
    "    return imgs, labels\n",
    "\n",
    "image_dir_path = os.getenv(\"HOME\") + \"/aiffel/rock_scissor_paper\"\n",
    "(x_train, y_train)=load_data(image_dir_path,6012)\n",
    "x_train_norm = x_train/255.0   \n",
    "\n",
    "print(\"x_train shape: {}\".format(x_train.shape))\n",
    "print(\"y_train shape: {}\".format(y_train.shape))"
   ]
  },
  {
   "cell_type": "code",
   "execution_count": 4,
   "id": "ec36aea0",
   "metadata": {},
   "outputs": [
    {
     "name": "stdout",
     "output_type": "stream",
     "text": [
      "라벨:  0\n"
     ]
    },
    {
     "data": {
      "image/png": "[encoded data removed]",
      "text/plain": [
       "<Figure size 432x288 with 1 Axes>"
      ]
     },
     "metadata": {
      "needs_background": "light"
     },
     "output_type": "display_data"
    }
   ],
   "source": [
    "plt.imshow(x_train[1100])\n",
    "print('라벨: ', y_train[1100])"
   ]
  },
  {
   "cell_type": "markdown",
   "id": "ccf5e428",
   "metadata": {},
   "source": [
    "# 딥러닝 네트워크 설계하기"
   ]
  },
  {
   "cell_type": "code",
   "execution_count": 5,
   "id": "c4a5b861",
   "metadata": {},
   "outputs": [
    {
     "name": "stdout",
     "output_type": "stream",
     "text": [
      "Model에 추가된 Layer 개수:  13\n"
     ]
    }
   ],
   "source": [
    "import tensorflow as tf\n",
    "from tensorflow import keras\n",
    "import numpy as np\n",
    "\n",
    "model=keras.models.Sequential()\n",
    "\n",
    "model.add(keras.layers.Conv2D(128,(3,3), activation='relu', input_shape=(28,28,3)))\n",
    "model.add(keras.layers.MaxPool2D(2,2))\n",
    "\n",
    "model.add(keras.layers.Conv2D(128, (3,3), activation='relu'))\n",
    "model.add(keras.layers.MaxPooling2D((2,2)))\n",
    "model.add(keras.layers.Dropout(0.4))\n",
    "\n",
    "\n",
    "\n",
    "model.add(keras.layers.Conv2D(256, (3,3), activation='relu'))\n",
    "model.add(keras.layers.MaxPooling2D((2,2)))\n",
    "model.add(keras.layers.Dropout(0.4))\n",
    "\n",
    "\n",
    "model.add(keras.layers.Flatten())\n",
    "model.add(keras.layers.Dropout(0.5))\n",
    "\n",
    "model.add(keras.layers.Dense(64, kernel_regularizer='l2'))\n",
    "\n",
    "model.add(keras.layers.Dense(32, activation='relu'))\n",
    "model.add(keras.layers.Dense(3, activation='softmax'))\n",
    "\n",
    "print('Model에 추가된 Layer 개수: ', len(model.layers))"
   ]
  },
  {
   "cell_type": "markdown",
   "id": "f654042e",
   "metadata": {},
   "source": [
    "# 딥러닝 네트워크 학습시키기"
   ]
  },
  {
   "cell_type": "code",
   "execution_count": 6,
   "id": "939e929b",
   "metadata": {},
   "outputs": [],
   "source": [
    "x_train_reshaped=x_train_norm.reshape(-1, 28, 28, 3) "
   ]
  },
  {
   "cell_type": "code",
   "execution_count": 7,
   "id": "dce02eb5",
   "metadata": {},
   "outputs": [
    {
     "name": "stdout",
     "output_type": "stream",
     "text": [
      "Epoch 1/10\n",
      "188/188 [==============================] - 4s 5ms/step - loss: 1.4203 - accuracy: 0.3347\n",
      "Epoch 2/10\n",
      "188/188 [==============================] - 1s 4ms/step - loss: 1.1082 - accuracy: 0.3330\n",
      "Epoch 3/10\n",
      "188/188 [==============================] - 1s 4ms/step - loss: 1.0829 - accuracy: 0.3911\n",
      "Epoch 4/10\n",
      "188/188 [==============================] - 1s 4ms/step - loss: 0.8206 - accuracy: 0.6364\n",
      "Epoch 5/10\n",
      "188/188 [==============================] - 1s 4ms/step - loss: 0.5865 - accuracy: 0.7774\n",
      "Epoch 6/10\n",
      "188/188 [==============================] - 1s 4ms/step - loss: 0.4557 - accuracy: 0.8338\n",
      "Epoch 7/10\n",
      "188/188 [==============================] - 1s 4ms/step - loss: 0.3693 - accuracy: 0.8701\n",
      "Epoch 8/10\n",
      "188/188 [==============================] - 1s 4ms/step - loss: 0.3071 - accuracy: 0.8969\n",
      "Epoch 9/10\n",
      "188/188 [==============================] - 1s 4ms/step - loss: 0.2678 - accuracy: 0.9092\n",
      "Epoch 10/10\n",
      "188/188 [==============================] - 1s 4ms/step - loss: 0.2370 - accuracy: 0.9248\n"
     ]
    },
    {
     "data": {
      "text/plain": [
       "<keras.callbacks.History at 0x7f5a78102400>"
      ]
     },
     "execution_count": 7,
     "metadata": {},
     "output_type": "execute_result"
    }
   ],
   "source": [
    "model.compile(optimizer='adam',\n",
    "             loss='sparse_categorical_crossentropy',\n",
    "             metrics=['accuracy'])\n",
    "\n",
    "model.fit(x_train_reshaped, y_train, epochs=10)"
   ]
  },
  {
   "cell_type": "markdown",
   "id": "75ae46dc",
   "metadata": {},
   "source": [
    "# 테스트하기"
   ]
  },
  {
   "cell_type": "code",
   "execution_count": 8,
   "id": "3f4e4c7b",
   "metadata": {},
   "outputs": [
    {
     "name": "stdout",
     "output_type": "stream",
     "text": [
      "100 images to be resized\n",
      "100 images resized\n",
      "가위 resize 완료!\n",
      "100 images to be resized\n",
      "100 images resized\n",
      "바위 resize 완료!\n",
      "100 images to be resized\n",
      "100 images resized\n",
      "보 resize 완료!\n"
     ]
    }
   ],
   "source": [
    "s_test_dir_path=os.getenv(\"HOME\")+\"/aiffel/rock_scissor_paper/test/scissor\"\n",
    "resize_images(s_test_dir_path)\n",
    "print('가위 resize 완료!')\n",
    "\n",
    "r_test_dir_path=os.getenv(\"HOME\")+\"/aiffel/rock_scissor_paper/test/rock\"\n",
    "resize_images(r_test_dir_path)\n",
    "print('바위 resize 완료!')\n",
    "\n",
    "p_test_dir_path=os.getenv(\"HOME\")+\"/aiffel/rock_scissor_paper/test/paper\"\n",
    "resize_images(p_test_dir_path)\n",
    "print('보 resize 완료!')"
   ]
  },
  {
   "cell_type": "code",
   "execution_count": 9,
   "id": "fde548a6",
   "metadata": {},
   "outputs": [
    {
     "name": "stdout",
     "output_type": "stream",
     "text": [
      "학습데이터(x_train)의 이미지 개수는 300 입니다.\n",
      "x_test shape: (300, 28, 28, 3)\n",
      "y_test shape: (300,)\n"
     ]
    }
   ],
   "source": [
    "\n",
    "test_dir_path=os.getenv(\"HOME\")+\"/aiffel/rock_scissor_paper/test\"\n",
    "(x_test, y_test)=load_data(test_dir_path,300)\n",
    "x_test_norm = x_test/255.0   \n",
    "\n",
    "print(\"x_test shape: {}\".format(x_test.shape))\n",
    "print(\"y_test shape: {}\".format(y_test.shape))"
   ]
  },
  {
   "cell_type": "code",
   "execution_count": 10,
   "id": "d5deddbd",
   "metadata": {},
   "outputs": [
    {
     "name": "stdout",
     "output_type": "stream",
     "text": [
      "라벨:  0\n"
     ]
    },
    {
     "data": {
      "image/png": "[encoded data removed]",
      "text/plain": [
       "<Figure size 432x288 with 1 Axes>"
      ]
     },
     "metadata": {
      "needs_background": "light"
     },
     "output_type": "display_data"
    }
   ],
   "source": [
    "plt.imshow(x_test[0])\n",
    "print('라벨: ', y_test[0])"
   ]
  },
  {
   "cell_type": "code",
   "execution_count": 11,
   "id": "df7c016a",
   "metadata": {},
   "outputs": [
    {
     "name": "stdout",
     "output_type": "stream",
     "text": [
      "10/10 - 0s - loss: 0.8186 - accuracy: 0.6567\n",
      "test_loss: 0.8186014294624329 \n",
      "test_accuracy: 0.6566666960716248\n"
     ]
    }
   ],
   "source": [
    "x_test_reshaped=x_test_norm.reshape(-1, 28, 28, 3) \n",
    "test_loss,test_accuracy=model.evaluate(x_test_reshaped,y_test, verbose=2)\n",
    "\n",
    "print(\"test_loss: {} \".format(test_loss))\n",
    "print(\"test_accuracy: {}\".format(test_accuracy))\n"
   ]
  },
  {
   "cell_type": "markdown",
   "id": "17ed93b9",
   "metadata": {},
   "source": [
    "# 회고\n",
    "\n",
    "처음에 묵찌빠 각각 100장씩 찍어서 훈련시켰다. 모델의 하이퍼파라미터를 이리 바꾸고 저리 바꾸고 한참을 시도하였는데 여전히 정확도가 30%가 안넘었다. 아이펠 친구들이 묵찌빠 사진들을 올려주어서 거의 6000장이 되는 데이터들을 얻었다. 데이터양을 늘리고 그제서야 정확도가 올라가는 것을 확인했다. 학습할 데이터 양이 많을수록 좋다는 것을 느꼈다."
   ]
  }
 ],
 "metadata": {
  "kernelspec": {
   "display_name": "Python 3 (ipykernel)",
   "language": "python",
   "name": "python3"
  },
  "language_info": {
   "codemirror_mode": {
    "name": "ipython",
    "version": 3
   },
   "file_extension": ".py",
   "mimetype": "text/x-python",
   "name": "python",
   "nbconvert_exporter": "python",
   "pygments_lexer": "ipython3",
   "version": "3.9.7"
  }
 },
 "nbformat": 4,
 "nbformat_minor": 5
}
