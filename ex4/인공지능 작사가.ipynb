{
 "cells": [
  {
   "cell_type": "markdown",
   "id": "dd1054f1",
   "metadata": {},
   "source": [
    "# 데이터 읽어오기"
   ]
  },
  {
   "cell_type": "code",
   "execution_count": 1,
   "id": "f32d9efd",
   "metadata": {},
   "outputs": [
    {
     "name": "stdout",
     "output_type": "stream",
     "text": [
      "데이터 크기: 187088\n",
      "example:\n",
      " [\"Now I've heard there was a secret chord\", 'That David played, and it pleased the Lord', \"But you don't really care for music, do you?\"]\n"
     ]
    }
   ],
   "source": [
    "import glob\n",
    "import os\n",
    "import re\n",
    "import tensorflow as tf\n",
    "\n",
    "txt_file_path = os.getenv('HOME')+'/aiffel/lyricist/data/lyrics/*'\n",
    "txt_list=glob.glob(txt_file_path)\n",
    "\n",
    "raw_corpus=[]\n",
    "\n",
    "for txt_file in txt_list:\n",
    "    with open(txt_file,'r') as f:\n",
    "        raw=f.read().splitlines()\n",
    "        raw_corpus.extend(raw)\n",
    "\n",
    "print(\"데이터 크기:\",len(raw_corpus))\n",
    "print('example:\\n',raw_corpus[:3])\n"
   ]
  },
  {
   "cell_type": "markdown",
   "id": "f02dcb71",
   "metadata": {},
   "source": [
    "# 데이터 정제"
   ]
  },
  {
   "cell_type": "code",
   "execution_count": 2,
   "id": "dc3efa7d",
   "metadata": {},
   "outputs": [],
   "source": [
    "def preprocess_sentence(sentence):\n",
    "    sentence = sentence.lower().strip() # 1.소문자로 바꾸고, 양쪽 공백을 지운다.\n",
    "    sentence = re.sub(r\"([?.!,¿])\", r\" \\1 \", sentence) # 2.특수문자 양쪽에 공백을 넣는다.\n",
    "    sentence = re.sub(r'[\" \"]+', \" \", sentence) # 3.여러개의 공백을 하나의 공백으로 바꾼다.\n",
    "    sentence = re.sub(r\"[^a-zA-Z?.!,¿]+\", \" \", sentence) # 4.^a-zA-Z?.!,¿가 아니면 공백으로 바꾼다.\n",
    "    sentence = sentence.strip() # 5.다시 양쪽 공백을 지운다.\n",
    "    sentence = '<start> ' + sentence + ' <end>' # 6.문장 시작과 끝에 <start> <end>를 추가한다.\n",
    "    return sentence\n"
   ]
  },
  {
   "cell_type": "code",
   "execution_count": 3,
   "id": "74aba0ff",
   "metadata": {},
   "outputs": [],
   "source": [
    "corpus=[]\n",
    "\n",
    "for sentence in raw_corpus:\n",
    "    if len(sentence)==0: continue # 공백 건너뛰기\n",
    "    if sentence[-1]==':': continue # : 건너뛰기  \n",
    "    preprocessed_sentence=preprocess_sentence(sentence)   \n",
    "    corpus.append(preprocessed_sentence)"
   ]
  },
  {
   "cell_type": "code",
   "execution_count": 4,
   "id": "c730a1d4",
   "metadata": {},
   "outputs": [
    {
     "name": "stdout",
     "output_type": "stream",
     "text": [
      "[[   2   50    5 ...    0    0    0]\n",
      " [   2   17 2639 ...    0    0    0]\n",
      " [   2   36    7 ...   43    3    0]\n",
      " ...\n",
      " [   5   22    9 ...   10 1013    3]\n",
      " [  37   15 9049 ...  877  647    3]\n",
      " [   2    7   34 ...    0    0    0]] <keras_preprocessing.text.Tokenizer object at 0x7f796f1fcac0>\n"
     ]
    }
   ],
   "source": [
    "#corpus를 tensor로 변환\n",
    "def tokenize(corpus):\n",
    "    \n",
    "    tokenizer=tf.keras.preprocessing.text.Tokenizer(\n",
    "    num_words=12000,\n",
    "    filters='',\n",
    "    oov_token=\"<unk>\")\n",
    "    \n",
    "    \n",
    "    tokenizer.fit_on_texts(corpus)\n",
    "    tensor=tokenizer.texts_to_sequences(corpus)\n",
    "    #입력데이터의 시퀀스 길이를  padding으로 맞춰줌, 최대 토큰 길이는 15\n",
    "    tensor=tf.keras.preprocessing.sequence.pad_sequences(tensor,maxlen=15,padding='post')\n",
    "    \n",
    "        \n",
    "    print(tensor,tokenizer)\n",
    "    return tensor,tokenizer\n",
    "\n",
    "tensor,tokenizer=tokenize(corpus)\n",
    "    "
   ]
  },
  {
   "cell_type": "code",
   "execution_count": 5,
   "id": "49126d0d",
   "metadata": {},
   "outputs": [],
   "source": [
    "src_input = tensor[:,:-1]\n",
    "tgt_input=tensor[:,1:]"
   ]
  },
  {
   "cell_type": "code",
   "execution_count": 6,
   "id": "03f35203",
   "metadata": {},
   "outputs": [
    {
     "data": {
      "text/plain": [
       "<BatchDataset shapes: ((256, 14), (256, 14)), types: (tf.int32, tf.int32)>"
      ]
     },
     "execution_count": 6,
     "metadata": {},
     "output_type": "execute_result"
    }
   ],
   "source": [
    "BUFFER_SIZE=len(src_input)\n",
    "BATCH_SIZE=256\n",
    "steps_per_epoch=len(src_input)//BATCH_SIZE\n",
    "\n",
    "VOCAB_SIZE=tokenizer.num_words+1\n",
    "\n",
    "dataset=tf.data.Dataset.from_tensor_slices((src_input,tgt_input))\n",
    "dataset=dataset.shuffle(BUFFER_SIZE)\n",
    "dataset=dataset.batch(BATCH_SIZE,drop_remainder=True)\n",
    "dataset"
   ]
  },
  {
   "cell_type": "markdown",
   "id": "0daf8ad5",
   "metadata": {},
   "source": [
    "# 평가 데이터셋 분리"
   ]
  },
  {
   "cell_type": "code",
   "execution_count": 7,
   "id": "87c8f865",
   "metadata": {},
   "outputs": [
    {
     "name": "stdout",
     "output_type": "stream",
     "text": [
      "Source Train: (140599, 14)\n",
      "Target Train: (140599, 14)\n"
     ]
    }
   ],
   "source": [
    "from sklearn.model_selection import train_test_split\n",
    "\n",
    "enc_train, enc_val, dec_train, dec_val = train_test_split(src_input,\n",
    "                                                          tgt_input,\n",
    "                                                          test_size=0.2,\n",
    "                                                          random_state=32\n",
    "                                                          \n",
    ")\n",
    "print(\"Source Train:\", enc_train.shape)\n",
    "print(\"Target Train:\", dec_train.shape)"
   ]
  },
  {
   "cell_type": "markdown",
   "id": "66693489",
   "metadata": {},
   "source": [
    "# 모델 만들기"
   ]
  },
  {
   "cell_type": "code",
   "execution_count": 8,
   "id": "96a50923",
   "metadata": {},
   "outputs": [],
   "source": [
    "class TextGenerator(tf.keras.Model):\n",
    "    def __init__(self,vocab_size,embedding_size,hidden_size):\n",
    "        super().__init__()\n",
    "        \n",
    "        self.embedding=tf.keras.layers.Embedding(vocab_size,embedding_size)\n",
    "        self.rnn1=tf.keras.layers.LSTM(hidden_size,return_sequences=True)\n",
    "        self.rnn2=tf.keras.layers.LSTM(hidden_size,return_sequences=True)\n",
    "        self.linear=tf.keras.layers.Dense(vocab_size)\n",
    "        \n",
    "    def call(self,x):\n",
    "        out=self.embedding(x)\n",
    "        out=self.rnn1(out)\n",
    "        out=self.rnn2(out)\n",
    "        out=self.linear(out)\n",
    "        \n",
    "        return out\n",
    "\n",
    "embedding_size=256\n",
    "hidden_size=1024\n",
    "model=TextGenerator(VOCAB_SIZE,embedding_size,hidden_size)"
   ]
  },
  {
   "cell_type": "markdown",
   "id": "15e57d2d",
   "metadata": {},
   "source": [
    "# 학습시키기"
   ]
  },
  {
   "cell_type": "code",
   "execution_count": 9,
   "id": "d60228c8",
   "metadata": {},
   "outputs": [
    {
     "name": "stdout",
     "output_type": "stream",
     "text": [
      "Epoch 1/10\n",
      "686/686 [==============================] - 116s 161ms/step - loss: 3.6095\n",
      "Epoch 2/10\n",
      "686/686 [==============================] - 112s 163ms/step - loss: 3.1316\n",
      "Epoch 3/10\n",
      "686/686 [==============================] - 112s 163ms/step - loss: 2.9348\n",
      "Epoch 4/10\n",
      "686/686 [==============================] - 112s 162ms/step - loss: 2.7853\n",
      "Epoch 5/10\n",
      "686/686 [==============================] - 112s 163ms/step - loss: 2.6529\n",
      "Epoch 6/10\n",
      "686/686 [==============================] - 113s 164ms/step - loss: 2.5344\n",
      "Epoch 7/10\n",
      "686/686 [==============================] - 112s 163ms/step - loss: 2.4237\n",
      "Epoch 8/10\n",
      "686/686 [==============================] - 112s 163ms/step - loss: 2.3215\n",
      "Epoch 9/10\n",
      "686/686 [==============================] - 112s 163ms/step - loss: 2.2250\n",
      "Epoch 10/10\n",
      "686/686 [==============================] - 113s 164ms/step - loss: 2.1330\n"
     ]
    },
    {
     "data": {
      "text/plain": [
       "<keras.callbacks.History at 0x7f78a7afdd30>"
      ]
     },
     "execution_count": 9,
     "metadata": {},
     "output_type": "execute_result"
    }
   ],
   "source": [
    "optimizer = tf.keras.optimizers.Adam()\n",
    "loss = tf.keras.losses.SparseCategoricalCrossentropy(\n",
    "    from_logits=True, reduction='none')\n",
    "model.compile(loss=loss,optimizer=optimizer)\n",
    "model.fit(dataset,epochs=10)"
   ]
  },
  {
   "cell_type": "markdown",
   "id": "ed42bc9a",
   "metadata": {},
   "source": [
    "# 평가하기"
   ]
  },
  {
   "cell_type": "code",
   "execution_count": 10,
   "id": "5f95f89f",
   "metadata": {},
   "outputs": [],
   "source": [
    "def generate_text(model,tokenizer,init_sentence='<start>',max_len=20):\n",
    "    test_input = tokenizer.texts_to_sequences([init_sentence])\n",
    "    test_tensor = tf.convert_to_tensor(test_input, dtype=tf.int64)\n",
    "    end_token = tokenizer.word_index[\"<end>\"]\n",
    "    \n",
    "    while True:\n",
    "        predict = model(test_tensor) \n",
    "        predict_word = tf.argmax(tf.nn.softmax(predict, axis=-1), axis=-1)[:, -1] \n",
    "        test_tensor = tf.concat([test_tensor, tf.expand_dims(predict_word, axis=0)], axis=-1)\n",
    "       \n",
    "        if predict_word.numpy()[0] == end_token: break\n",
    "        if test_tensor.shape[1] >= max_len: break\n",
    "        \n",
    "    generated = \"\"\n",
    "    for word_index in test_tensor[0].numpy():\n",
    "        generated += tokenizer.index_word[word_index] + \" \"\n",
    "    return generated"
   ]
  },
  {
   "cell_type": "code",
   "execution_count": 14,
   "id": "4db5032b",
   "metadata": {},
   "outputs": [
    {
     "data": {
      "text/plain": [
       "'<start> you raise my heart away <end> '"
      ]
     },
     "execution_count": 14,
     "metadata": {},
     "output_type": "execute_result"
    }
   ],
   "source": [
    "generate_text(model, tokenizer, init_sentence=\"<start> you raise\", max_len=20)"
   ]
  }
 ],
 "metadata": {
  "kernelspec": {
   "display_name": "Python 3 (ipykernel)",
   "language": "python",
   "name": "python3"
  },
  "language_info": {
   "codemirror_mode": {
    "name": "ipython",
    "version": 3
   },
   "file_extension": ".py",
   "mimetype": "text/x-python",
   "name": "python",
   "nbconvert_exporter": "python",
   "pygments_lexer": "ipython3",
   "version": "3.9.7"
  }
 },
 "nbformat": 4,
 "nbformat_minor": 5
}
