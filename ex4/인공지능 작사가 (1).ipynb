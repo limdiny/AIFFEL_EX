{
 "cells": [
  {
   "cell_type": "markdown",
   "id": "3ab680ee",
   "metadata": {},
   "source": [
    "# 데이터 읽어오기"
   ]
  },
  {
   "cell_type": "code",
   "execution_count": 1,
   "id": "dc0dd761",
   "metadata": {},
   "outputs": [
    {
     "name": "stdout",
     "output_type": "stream",
     "text": [
      "데이터 크기: 187088\n",
      "example:\n",
      " [\"Now I've heard there was a secret chord\", 'That David played, and it pleased the Lord', \"But you don't really care for music, do you?\"]\n"
     ]
    }
   ],
   "source": [
    "import glob\n",
    "import os\n",
    "import re\n",
    "import tensorflow as tf\n",
    "\n",
    "txt_file_path = os.getenv('HOME')+'/aiffel/lyricist/data/lyrics/*'\n",
    "txt_list=glob.glob(txt_file_path)\n",
    "\n",
    "raw_corpus=[]\n",
    "\n",
    "for txt_file in txt_list:\n",
    "    with open(txt_file,'r') as f:\n",
    "        raw=f.read().splitlines()\n",
    "        raw_corpus.extend(raw)\n",
    "\n",
    "print(\"데이터 크기:\",len(raw_corpus))\n",
    "print('example:\\n',raw_corpus[:3])\n"
   ]
  },
  {
   "cell_type": "markdown",
   "id": "40b30e43",
   "metadata": {},
   "source": [
    "# 데이터 정제"
   ]
  },
  {
   "cell_type": "code",
   "execution_count": 2,
   "id": "75703f94",
   "metadata": {},
   "outputs": [],
   "source": [
    "def preprocess_sentence(sentence):\n",
    "    sentence = sentence.lower().strip() # 1.소문자로 바꾸고, 양쪽 공백을 지운다.\n",
    "    sentence = re.sub(r\"([?.!,¿])\", r\" \\1 \", sentence) # 2.특수문자 양쪽에 공백을 넣는다.\n",
    "    sentence = re.sub(r'[\" \"]+', \" \", sentence) # 3.여러개의 공백을 하나의 공백으로 바꾼다.\n",
    "    sentence = re.sub(r\"[^a-zA-Z?.!,¿]+\", \" \", sentence) # 4.^a-zA-Z?.!,¿가 아니면 공백으로 바꾼다.\n",
    "    sentence = sentence.strip() # 5.다시 양쪽 공백을 지운다.\n",
    "    sentence = '<start> ' + sentence + ' <end>' # 6.문장 시작과 끝에 <start> <end>를 추가한다.\n",
    "    return sentence\n"
   ]
  },
  {
   "cell_type": "code",
   "execution_count": 3,
   "id": "50b403df",
   "metadata": {},
   "outputs": [],
   "source": [
    "corpus=[]\n",
    "\n",
    "for sentence in raw_corpus:\n",
    "    if len(sentence)==0: continue # 공백 건너뛰기\n",
    "    if sentence[-1]==':': continue # : 건너뛰기  \n",
    "    preprocessed_sentence=preprocess_sentence(sentence)   \n",
    "    corpus.append(preprocessed_sentence)"
   ]
  },
  {
   "cell_type": "code",
   "execution_count": 4,
   "id": "230532ef",
   "metadata": {},
   "outputs": [
    {
     "name": "stdout",
     "output_type": "stream",
     "text": [
      "[[   2   50    5 ...    0    0    0]\n",
      " [   2   17 2639 ...    0    0    0]\n",
      " [   2   36    7 ...   43    3    0]\n",
      " ...\n",
      " [   5   22    9 ...   10 1013    3]\n",
      " [  37   15 9049 ...  877  647    3]\n",
      " [   2    7   34 ...    0    0    0]] <keras_preprocessing.text.Tokenizer object at 0x7f9641496a90>\n"
     ]
    }
   ],
   "source": [
    "#corpus를 tensor로 변환\n",
    "def tokenize(corpus):\n",
    "    \n",
    "    tokenizer=tf.keras.preprocessing.text.Tokenizer(\n",
    "    num_words=12000,\n",
    "    filters='',\n",
    "    oov_token=\"<unk>\")\n",
    "    \n",
    "    \n",
    "    tokenizer.fit_on_texts(corpus)\n",
    "    tensor=tokenizer.texts_to_sequences(corpus)\n",
    "    #입력데이터의 시퀀스 길이를  padding으로 맞춰줌, 최대 토큰 길이는 15\n",
    "    tensor=tf.keras.preprocessing.sequence.pad_sequences(tensor,maxlen=15,padding='post')\n",
    "    \n",
    "        \n",
    "    print(tensor,tokenizer)\n",
    "    return tensor,tokenizer\n",
    "\n",
    "tensor,tokenizer=tokenize(corpus)\n",
    "    "
   ]
  },
  {
   "cell_type": "code",
   "execution_count": 5,
   "id": "411cb0aa",
   "metadata": {},
   "outputs": [],
   "source": [
    "src_input = tensor[:,:-1]\n",
    "tgt_input=tensor[:,1:]"
   ]
  },
  {
   "cell_type": "code",
   "execution_count": 6,
   "id": "b27d14a9",
   "metadata": {},
   "outputs": [
    {
     "data": {
      "text/plain": [
       "<BatchDataset shapes: ((256, 14), (256, 14)), types: (tf.int32, tf.int32)>"
      ]
     },
     "execution_count": 6,
     "metadata": {},
     "output_type": "execute_result"
    }
   ],
   "source": [
    "BUFFER_SIZE=len(src_input)\n",
    "BATCH_SIZE=256\n",
    "steps_per_epoch=len(src_input)//BATCH_SIZE\n",
    "\n",
    "VOCAB_SIZE=tokenizer.num_words+1\n",
    "\n",
    "dataset=tf.data.Dataset.from_tensor_slices((src_input,tgt_input))\n",
    "dataset=dataset.shuffle(BUFFER_SIZE)\n",
    "dataset=dataset.batch(BATCH_SIZE,drop_remainder=True)\n",
    "dataset"
   ]
  },
  {
   "cell_type": "markdown",
   "id": "3c4e9ca8",
   "metadata": {},
   "source": [
    "# 평가 데이터셋 분리"
   ]
  },
  {
   "cell_type": "code",
   "execution_count": 7,
   "id": "138132b6",
   "metadata": {},
   "outputs": [
    {
     "name": "stdout",
     "output_type": "stream",
     "text": [
      "Source Train: (140599, 14)\n",
      "Target Train: (140599, 14)\n"
     ]
    }
   ],
   "source": [
    "from sklearn.model_selection import train_test_split\n",
    "\n",
    "enc_train, enc_val, dec_train, dec_val = train_test_split(src_input,\n",
    "                                                          tgt_input,\n",
    "                                                          test_size=0.2,\n",
    "                                                          random_state=32\n",
    "                                                          \n",
    ")\n",
    "print(\"Source Train:\", enc_train.shape)\n",
    "print(\"Target Train:\", dec_train.shape)"
   ]
  },
  {
   "cell_type": "markdown",
   "id": "7d94eb26",
   "metadata": {},
   "source": [
    "# 모델 만들기"
   ]
  },
  {
   "cell_type": "code",
   "execution_count": 8,
   "id": "8e3038ba",
   "metadata": {},
   "outputs": [],
   "source": [
    "class TextGenerator(tf.keras.Model):\n",
    "    def __init__(self,vocab_size,embedding_size,hidden_size):\n",
    "        super().__init__()\n",
    "        \n",
    "        self.embedding=tf.keras.layers.Embedding(vocab_size,embedding_size)\n",
    "        self.rnn1=tf.keras.layers.LSTM(hidden_size,return_sequences=True)\n",
    "        self.rnn2=tf.keras.layers.LSTM(hidden_size,return_sequences=True)\n",
    "        self.linear=tf.keras.layers.Dense(vocab_size)\n",
    "        \n",
    "    def call(self,x):\n",
    "        out=self.embedding(x)\n",
    "        out=self.rnn1(out)\n",
    "        out=self.rnn2(out)\n",
    "        out=self.linear(out)\n",
    "        \n",
    "        return out\n",
    "\n",
    "embedding_size=256\n",
    "hidden_size=1024\n",
    "model=TextGenerator(VOCAB_SIZE,embedding_size,hidden_size)"
   ]
  },
  {
   "cell_type": "markdown",
   "id": "18cdebd9",
   "metadata": {},
   "source": [
    "# 학습시키기"
   ]
  },
  {
   "cell_type": "code",
   "execution_count": 9,
   "id": "102c4d4c",
   "metadata": {},
   "outputs": [
    {
     "name": "stdout",
     "output_type": "stream",
     "text": [
      "Epoch 1/30\n",
      "686/686 [==============================] - 108s 149ms/step - loss: 3.6088\n",
      "Epoch 2/30\n",
      "686/686 [==============================] - 112s 162ms/step - loss: 3.1318\n",
      "Epoch 3/30\n",
      "686/686 [==============================] - 112s 162ms/step - loss: 2.9368\n",
      "Epoch 4/30\n",
      "686/686 [==============================] - 112s 162ms/step - loss: 2.7876\n",
      "Epoch 5/30\n",
      "686/686 [==============================] - 112s 162ms/step - loss: 2.6559\n",
      "Epoch 6/30\n",
      "686/686 [==============================] - 112s 162ms/step - loss: 2.5363\n",
      "Epoch 7/30\n",
      "686/686 [==============================] - 112s 162ms/step - loss: 2.4267\n",
      "Epoch 8/30\n",
      "686/686 [==============================] - 112s 162ms/step - loss: 2.3259\n",
      "Epoch 9/30\n",
      "686/686 [==============================] - 112s 162ms/step - loss: 2.2319\n",
      "Epoch 10/30\n",
      "686/686 [==============================] - 112s 163ms/step - loss: 2.1430\n",
      "Epoch 11/30\n",
      "686/686 [==============================] - 112s 162ms/step - loss: 2.0590\n",
      "Epoch 12/30\n",
      "686/686 [==============================] - 112s 162ms/step - loss: 1.9779\n",
      "Epoch 13/30\n",
      "686/686 [==============================] - 111s 162ms/step - loss: 1.8995\n",
      "Epoch 14/30\n",
      "686/686 [==============================] - 111s 162ms/step - loss: 1.8230\n",
      "Epoch 15/30\n",
      "686/686 [==============================] - 111s 162ms/step - loss: 1.7498\n",
      "Epoch 16/30\n",
      "686/686 [==============================] - 112s 162ms/step - loss: 1.6793\n",
      "Epoch 17/30\n",
      "686/686 [==============================] - 112s 162ms/step - loss: 1.6118\n",
      "Epoch 18/30\n",
      "686/686 [==============================] - 112s 163ms/step - loss: 1.5468\n",
      "Epoch 19/30\n",
      "686/686 [==============================] - 112s 162ms/step - loss: 1.4855\n",
      "Epoch 20/30\n",
      "686/686 [==============================] - 112s 162ms/step - loss: 1.4280\n",
      "Epoch 21/30\n",
      "686/686 [==============================] - 112s 162ms/step - loss: 1.3735\n",
      "Epoch 22/30\n",
      "686/686 [==============================] - 112s 162ms/step - loss: 1.3225\n",
      "Epoch 23/30\n",
      "686/686 [==============================] - 112s 162ms/step - loss: 1.2753\n",
      "Epoch 24/30\n",
      "686/686 [==============================] - 112s 162ms/step - loss: 1.2319\n",
      "Epoch 25/30\n",
      "686/686 [==============================] - 112s 162ms/step - loss: 1.1925\n",
      "Epoch 26/30\n",
      "686/686 [==============================] - 112s 162ms/step - loss: 1.1541\n",
      "Epoch 27/30\n",
      "686/686 [==============================] - 112s 162ms/step - loss: 1.1202\n",
      "Epoch 28/30\n",
      "686/686 [==============================] - 112s 162ms/step - loss: 1.0896\n",
      "Epoch 29/30\n",
      "686/686 [==============================] - 112s 162ms/step - loss: 1.0627\n",
      "Epoch 30/30\n",
      "686/686 [==============================] - 112s 162ms/step - loss: 1.0368\n"
     ]
    },
    {
     "data": {
      "text/plain": [
       "<keras.callbacks.History at 0x7f95791b0fa0>"
      ]
     },
     "execution_count": 9,
     "metadata": {},
     "output_type": "execute_result"
    }
   ],
   "source": [
    "optimizer = tf.keras.optimizers.Adam()\n",
    "loss = tf.keras.losses.SparseCategoricalCrossentropy(\n",
    "    from_logits=True, reduction='none')\n",
    "model.compile(loss=loss,optimizer=optimizer)\n",
    "model.fit(dataset,epochs=30)"
   ]
  },
  {
   "cell_type": "markdown",
   "id": "517fb468",
   "metadata": {},
   "source": [
    "# 평가하기"
   ]
  },
  {
   "cell_type": "code",
   "execution_count": 12,
   "id": "b8318089",
   "metadata": {},
   "outputs": [],
   "source": [
    "def generate_text(model,tokenizer,init_sentence='<start>',max_len=20):\n",
    "    test_input = tokenizer.texts_to_sequences([init_sentence])\n",
    "    test_tensor = tf.convert_to_tensor(test_input, dtype=tf.int64)\n",
    "    end_token = tokenizer.word_index[\"<end>\"]\n",
    "    \n",
    "    while True:\n",
    "        predict = model(test_tensor) \n",
    "        predict_word = tf.argmax(tf.nn.softmax(predict, axis=-1), axis=-1)[:, -1] \n",
    "        test_tensor = tf.concat([test_tensor, tf.expand_dims(predict_word, axis=0)], axis=-1)\n",
    "       \n",
    "        if predict_word.numpy()[0] == end_token: break\n",
    "        if test_tensor.shape[1] >= max_len: break\n",
    "        \n",
    "    generated = \"\"\n",
    "    for word_index in test_tensor[0].numpy():\n",
    "        generated += tokenizer.index_word[word_index] + \" \"\n",
    "    return generated"
   ]
  },
  {
   "cell_type": "code",
   "execution_count": 15,
   "id": "aced596e",
   "metadata": {},
   "outputs": [
    {
     "data": {
      "text/plain": [
       "'<start> i eat the cat <end> '"
      ]
     },
     "execution_count": 15,
     "metadata": {},
     "output_type": "execute_result"
    }
   ],
   "source": [
    "generate_text(model, tokenizer, init_sentence=\"<start> i eat\", max_len=20)"
   ]
  }
 ],
 "metadata": {
  "kernelspec": {
   "display_name": "Python 3 (ipykernel)",
   "language": "python",
   "name": "python3"
  },
  "language_info": {
   "codemirror_mode": {
    "name": "ipython",
    "version": 3
   },
   "file_extension": ".py",
   "mimetype": "text/x-python",
   "name": "python",
   "nbconvert_exporter": "python",
   "pygments_lexer": "ipython3",
   "version": "3.9.7"
  }
 },
 "nbformat": 4,
 "nbformat_minor": 5
}
